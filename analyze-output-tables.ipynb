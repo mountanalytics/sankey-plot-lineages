{
 "cells": [
  {
   "cell_type": "code",
   "execution_count": 1,
   "metadata": {},
   "outputs": [],
   "source": [
    "import pandas as pd"
   ]
  },
  {
   "cell_type": "code",
   "execution_count": 29,
   "metadata": {},
   "outputs": [
    {
     "name": "stdout",
     "output_type": "stream",
     "text": [
      "['COLOR', 'FILTER', 'FUNCTION', 'ID', 'JOIN_ARGU', 'LABEL_NODE', 'NAME_NODE', 'Unnamed: 0']\n"
     ]
    }
   ],
   "source": [
    "# analyze data sources (sap)\n",
    "\n",
    "lineages = pd.read_csv(\"output-tables-sap/lineages/lineage-B_BillingItem.csv\")\n",
    "nodes = pd.read_csv(\"output-tables-sap/nodes.csv\")\n",
    "\n",
    "columns = [i for i in lineages.columns]\n",
    "\n",
    "print(sorted([i for i in nodes.columns]))\n",
    "\n"
   ]
  },
  {
   "cell_type": "code",
   "execution_count": 30,
   "metadata": {},
   "outputs": [
    {
     "name": "stdout",
     "output_type": "stream",
     "text": [
      "['COLOR', 'FILTER', 'FUNCTION', 'ID', 'JOIN_ARG', 'LABEL_NODE', 'NAME_NODE', 'SPLIT_ARG']\n"
     ]
    }
   ],
   "source": [
    "# analyze data sources (ssis)\n",
    "\n",
    "lineages = pd.read_csv(\"output-tables-ssis\\lineages\\lineages.csv\")\n",
    "nodes = pd.read_csv(\"output-tables-ssis/nodes_sankey.csv\")\n",
    "lineages.columns\n",
    "print(sorted([i for i in nodes.columns]))\n"
   ]
  },
  {
   "cell_type": "code",
   "execution_count": 31,
   "metadata": {},
   "outputs": [
    {
     "name": "stdout",
     "output_type": "stream",
     "text": [
      "['COLOR', 'FUNCTION', 'ID', 'LABEL_NODE', 'NAME_NODE', 'ON', 'Unnamed: 0', 'WHERE']\n"
     ]
    }
   ],
   "source": [
    "# analyze data sources (sql)\n",
    "\n",
    "lineages = pd.read_csv(\"output-tables-sql\\lineages\\lineage-CUSTOMER_BANK_DETAILS.csv\")\n",
    "nodes = pd.read_csv(\"output-tables-sql/nodes.csv\")\n",
    "lineages.columns\n",
    "print(sorted([i for i in nodes.columns]))\n"
   ]
  },
  {
   "cell_type": "code",
   "execution_count": null,
   "metadata": {},
   "outputs": [],
   "source": []
  }
 ],
 "metadata": {
  "kernelspec": {
   "display_name": "rabo",
   "language": "python",
   "name": "python3"
  },
  "language_info": {
   "codemirror_mode": {
    "name": "ipython",
    "version": 3
   },
   "file_extension": ".py",
   "mimetype": "text/x-python",
   "name": "python",
   "nbconvert_exporter": "python",
   "pygments_lexer": "ipython3",
   "version": "3.10.14"
  }
 },
 "nbformat": 4,
 "nbformat_minor": 2
}
